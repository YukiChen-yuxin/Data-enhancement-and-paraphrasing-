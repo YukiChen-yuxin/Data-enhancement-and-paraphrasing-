{
 "cells": [
  {
   "cell_type": "code",
   "execution_count": 1,
   "id": "ab3322b6",
   "metadata": {},
   "outputs": [],
   "source": [
    "import thulac"
   ]
  },
  {
   "cell_type": "code",
   "execution_count": 2,
   "id": "eb5df74b",
   "metadata": {},
   "outputs": [
    {
     "name": "stdout",
     "output_type": "stream",
     "text": [
      "Model loaded succeed\n"
     ]
    }
   ],
   "source": [
    "thu1 = thulac.thulac() #默认模式"
   ]
  },
  {
   "cell_type": "code",
   "execution_count": 3,
   "id": "9cc1fd3b",
   "metadata": {},
   "outputs": [],
   "source": [
    "text=thu1.cut('李宏毅担任百度CEO',text=True) #进行一句话分词"
   ]
  },
  {
   "cell_type": "code",
   "execution_count": 4,
   "id": "31e39aef",
   "metadata": {},
   "outputs": [
    {
     "data": {
      "text/plain": [
       "'李宏毅_np 担任_v 百_m 度_q CEO_x'"
      ]
     },
     "execution_count": 4,
     "metadata": {},
     "output_type": "execute_result"
    }
   ],
   "source": [
    "text"
   ]
  },
  {
   "cell_type": "code",
   "execution_count": null,
   "id": "3ba85346",
   "metadata": {},
   "outputs": [],
   "source": [
    "from pyhanlp import *\n",
    "print(HanLP.parseDependency(\"徐先生还具体帮助他确定了把画雄鹰、松鼠和麻雀作为主攻目标。\"))"
   ]
  },
  {
   "cell_type": "code",
   "execution_count": null,
   "id": "a908f39f",
   "metadata": {},
   "outputs": [],
   "source": []
  }
 ],
 "metadata": {
  "kernelspec": {
   "display_name": "Python 3",
   "language": "python",
   "name": "python3"
  },
  "language_info": {
   "codemirror_mode": {
    "name": "ipython",
    "version": 3
   },
   "file_extension": ".py",
   "mimetype": "text/x-python",
   "name": "python",
   "nbconvert_exporter": "python",
   "pygments_lexer": "ipython3",
   "version": "3.8.8"
  }
 },
 "nbformat": 4,
 "nbformat_minor": 5
}
