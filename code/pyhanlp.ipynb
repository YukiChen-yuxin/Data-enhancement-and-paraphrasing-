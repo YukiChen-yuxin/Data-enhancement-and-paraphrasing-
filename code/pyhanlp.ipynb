{
 "cells": [
  {
   "cell_type": "code",
   "execution_count": 1,
   "metadata": {},
   "outputs": [
    {
     "name": "stdout",
     "output_type": "stream",
     "text": [
      "下载 https://file.hankcs.com/hanlp/hanlp-1.8.2-release.zip 到 D:\\Anaconda\\Lib\\site-packages\\pyhanlp\\static\\hanlp-1.8.2-release.zip\n",
      "100%   1.8 MiB   1.8 MiB/s ETA:  0 s [=============================================================]\n",
      "下载 https://file.hankcs.com/hanlp/data-for-1.7.5.zip 到 D:\\Anaconda\\Lib\\site-packages\\pyhanlp\\static\\data-for-1.8.2.zip\n",
      "100% 637.7 MiB   3.5 MiB/s ETA:  0 s [=============================================================]\n",
      "                                                                                                    \r"
     ]
    },
    {
     "name": "stderr",
     "output_type": "stream",
     "text": [
      "解压 data.zip...                                                                                      \n"
     ]
    }
   ],
   "source": [
    "from pyhanlp import *"
   ]
  },
  {
   "cell_type": "code",
   "execution_count": 2,
   "metadata": {},
   "outputs": [
    {
     "name": "stdout",
     "output_type": "stream",
     "text": [
      "[你好/vl, ，/w, 欢迎/v, 在/p, Python/nx, 中/f, 调用/v, HanLP/nx, 的/ude1, API/nx]\n"
     ]
    }
   ],
   "source": [
    "print(HanLP.segment('你好，欢迎在Python中调用HanLP的API'))"
   ]
  },
  {
   "cell_type": "code",
   "execution_count": 5,
   "metadata": {},
   "outputs": [
    {
     "name": "stdout",
     "output_type": "stream",
     "text": [
      "[她/rr, 长得/v, 沉鱼落雁/i, 闭月羞花/bl]\n"
     ]
    }
   ],
   "source": [
    "print(HanLP.segment('她长得沉鱼落雁闭月羞花'))"
   ]
  },
  {
   "cell_type": "code",
   "execution_count": 6,
   "metadata": {},
   "outputs": [
    {
     "name": "stdout",
     "output_type": "stream",
     "text": [
      "下雨天\tn\n",
      "地面\tn\n",
      "积水\tn\n"
     ]
    }
   ],
   "source": [
    "for term in HanLP.segment('下雨天地面积水'):\n",
    "    print('{}\\t{}'.format(term.word, term.nature)) # 获取单词与词性"
   ]
  },
  {
   "cell_type": "code",
   "execution_count": 7,
   "metadata": {},
   "outputs": [
    {
     "name": "stdout",
     "output_type": "stream",
     "text": [
      "[水资源, 陈明忠]\n",
      "[严格地进行水资源论证和取水许可的批准, 水利部水资源司司长陈明忠9月29日在国务院新闻办举行的新闻发布会上透露, 有部分省超过红线的指标]\n"
     ]
    }
   ],
   "source": [
    "# 关键词提取\n",
    "document = \"水利部水资源司司长陈明忠9月29日在国务院新闻办举行的新闻发布会上透露，\" \\\n",
    "           \"根据刚刚完成了水资源管理制度的考核，有部分省接近了红线的指标，\" \\\n",
    "           \"有部分省超过红线的指标。对一些超过红线的地方，陈明忠表示，对一些取用水项目进行区域的限批，\" \\\n",
    "           \"严格地进行水资源论证和取水许可的批准。\"\n",
    "print(HanLP.extractKeyword(document, 2))\n",
    "# 自动摘要\n",
    "print(HanLP.extractSummary(document, 3))"
   ]
  },
  {
   "cell_type": "code",
   "execution_count": 8,
   "metadata": {},
   "outputs": [
    {
     "name": "stdout",
     "output_type": "stream",
     "text": [
      "1\t徐先生\t徐先生\tnh\tnr\t_\t4\t主谓关系\t_\t_\n",
      "2\t还\t还\td\td\t_\t4\t状中结构\t_\t_\n",
      "3\t具体\t具体\ta\tad\t_\t4\t状中结构\t_\t_\n",
      "4\t帮助\t帮助\tv\tv\t_\t0\t核心关系\t_\t_\n",
      "5\t他\t他\tr\tr\t_\t4\t兼语\t_\t_\n",
      "6\t确定\t确定\tv\tv\t_\t4\t动宾关系\t_\t_\n",
      "7\t了\t了\tu\tu\t_\t6\t右附加关系\t_\t_\n",
      "8\t把\t把\tp\tp\t_\t15\t状中结构\t_\t_\n",
      "9\t画\t画\tv\tv\t_\t8\t介宾关系\t_\t_\n",
      "10\t雄鹰\t雄鹰\tn\tn\t_\t9\t动宾关系\t_\t_\n",
      "11\t、\t、\twp\tw\t_\t12\t标点符号\t_\t_\n",
      "12\t松鼠\t松鼠\tn\tn\t_\t10\t并列关系\t_\t_\n",
      "13\t和\t和\tc\tc\t_\t14\t左附加关系\t_\t_\n",
      "14\t麻雀\t麻雀\tn\tn\t_\t10\t并列关系\t_\t_\n",
      "15\t作为\t作为\tv\tv\t_\t6\t动宾关系\t_\t_\n",
      "16\t主攻\t主攻\tv\tvn\t_\t17\t定中关系\t_\t_\n",
      "17\t目标\t目标\tn\tn\t_\t15\t动宾关系\t_\t_\n",
      "18\t。\t。\twp\tw\t_\t4\t标点符号\t_\t_\n",
      "\n"
     ]
    }
   ],
   "source": [
    "# 依存句法分析\n",
    "print(HanLP.parseDependency(\"徐先生还具体帮助他确定了把画雄鹰、松鼠和麻雀作为主攻目标。\"))"
   ]
  },
  {
   "cell_type": "code",
   "execution_count": 10,
   "metadata": {},
   "outputs": [],
   "source": [
    "a=HanLP.parseDependency(\"徐先生还具体帮助他确定了把画雄鹰、松鼠和麻雀作为主攻目标。\")"
   ]
  },
  {
   "cell_type": "code",
   "execution_count": 54,
   "metadata": {},
   "outputs": [
    {
     "data": {
      "text/plain": [
       "4"
      ]
     },
     "execution_count": 54,
     "metadata": {},
     "output_type": "execute_result"
    }
   ],
   "source": [
    "word_array[5].HEAD.ID"
   ]
  },
  {
   "cell_type": "code",
   "execution_count": 15,
   "metadata": {},
   "outputs": [
    {
     "name": "stdout",
     "output_type": "stream",
     "text": [
      "徐先生 --(主谓关系)--> 帮助\n",
      "\n",
      "还 --(状中结构)--> 帮助\n",
      "\n",
      "具体 --(状中结构)--> 帮助\n",
      "\n",
      "帮助 --(核心关系)--> ##核心##\n",
      "\n",
      "他 --(兼语)--> 帮助\n",
      "\n",
      "确定 --(动宾关系)--> 帮助\n",
      "\n",
      "了 --(右附加关系)--> 确定\n",
      "\n",
      "把 --(状中结构)--> 作为\n",
      "\n",
      "画 --(介宾关系)--> 把\n",
      "\n",
      "雄鹰 --(动宾关系)--> 画\n",
      "\n",
      "、 --(标点符号)--> 松鼠\n",
      "\n",
      "松鼠 --(并列关系)--> 雄鹰\n",
      "\n",
      "和 --(左附加关系)--> 麻雀\n",
      "\n",
      "麻雀 --(并列关系)--> 雄鹰\n",
      "\n",
      "作为 --(动宾关系)--> 确定\n",
      "\n",
      "主攻 --(定中关系)--> 目标\n",
      "\n",
      "目标 --(动宾关系)--> 作为\n",
      "\n",
      "。 --(标点符号)--> 帮助\n",
      "\n"
     ]
    }
   ],
   "source": [
    "for word in a.iterator(): # 通过dir()可以查看sentence的方法\n",
    "    print(\"%s --(%s)--> %s\" % (word.LEMMA, word.DEPREL, word.HEAD.LEMMA))\n",
    "    print()"
   ]
  },
  {
   "cell_type": "code",
   "execution_count": 22,
   "metadata": {},
   "outputs": [
    {
     "data": {
      "text/plain": [
       "<jpype._jclass.com.hankcs.hanlp.corpus.dependency.CoNll.CoNLLWord at 0x1fff7d49130>"
      ]
     },
     "execution_count": 22,
     "metadata": {},
     "output_type": "execute_result"
    }
   ],
   "source": [
    "word_array[0].HEAD"
   ]
  },
  {
   "cell_type": "code",
   "execution_count": 19,
   "metadata": {},
   "outputs": [
    {
     "name": "stdout",
     "output_type": "stream",
     "text": [
      "1\t徐先生\t徐先生\tnh\tnr\t_\t4\t主谓关系\t_\t_\n",
      "2\t还\t还\td\td\t_\t4\t状中结构\t_\t_\n",
      "3\t具体\t具体\ta\tad\t_\t4\t状中结构\t_\t_\n",
      "4\t帮助\t帮助\tv\tv\t_\t0\t核心关系\t_\t_\n",
      "5\t他\t他\tr\tr\t_\t4\t兼语\t_\t_\n",
      "6\t确定\t确定\tv\tv\t_\t4\t动宾关系\t_\t_\n",
      "7\t了\t了\tu\tu\t_\t6\t右附加关系\t_\t_\n",
      "8\t把\t把\tp\tp\t_\t15\t状中结构\t_\t_\n",
      "9\t画\t画\tv\tv\t_\t8\t介宾关系\t_\t_\n",
      "10\t雄鹰\t雄鹰\tn\tn\t_\t9\t动宾关系\t_\t_\n",
      "11\t、\t、\twp\tw\t_\t12\t标点符号\t_\t_\n",
      "12\t松鼠\t松鼠\tn\tn\t_\t10\t并列关系\t_\t_\n",
      "13\t和\t和\tc\tc\t_\t14\t左附加关系\t_\t_\n",
      "14\t麻雀\t麻雀\tn\tn\t_\t10\t并列关系\t_\t_\n",
      "15\t作为\t作为\tv\tv\t_\t6\t动宾关系\t_\t_\n",
      "16\t主攻\t主攻\tv\tvn\t_\t17\t定中关系\t_\t_\n",
      "17\t目标\t目标\tn\tn\t_\t15\t动宾关系\t_\t_\n",
      "18\t。\t。\twp\tw\t_\t4\t标点符号\t_\t_\n"
     ]
    }
   ],
   "source": [
    "for word in word_array:\n",
    "    print(word)"
   ]
  },
  {
   "cell_type": "code",
   "execution_count": 28,
   "metadata": {},
   "outputs": [
    {
     "name": "stdout",
     "output_type": "stream",
     "text": [
      "[徐先生/nr, 还/d, 具体/a, 帮助/v, 他/rr, 确定/v, 了/ule, 把/pba, 画/v, 雄鹰/n, 、/w, 松鼠/n, 和/cc, 麻雀/n, 作为/p, 主攻/vn, 目标/n, 。/w]\n"
     ]
    }
   ],
   "source": [
    "print(HanLP.segment('徐先生还具体帮助他确定了把画雄鹰、松鼠和麻雀作为主攻目标。'))"
   ]
  },
  {
   "cell_type": "code",
   "execution_count": 17,
   "metadata": {},
   "outputs": [
    {
     "name": "stdout",
     "output_type": "stream",
     "text": [
      "徐先生 --(主谓关系)--> 帮助\n",
      "\n",
      "还 --(状中结构)--> 帮助\n",
      "\n",
      "具体 --(状中结构)--> 帮助\n",
      "\n",
      "帮助 --(核心关系)--> ##核心##\n",
      "\n",
      "他 --(兼语)--> 帮助\n",
      "\n",
      "确定 --(动宾关系)--> 帮助\n",
      "\n",
      "了 --(右附加关系)--> 确定\n",
      "\n",
      "把 --(状中结构)--> 作为\n",
      "\n",
      "画 --(介宾关系)--> 把\n",
      "\n",
      "雄鹰 --(动宾关系)--> 画\n",
      "\n",
      "、 --(标点符号)--> 松鼠\n",
      "\n",
      "松鼠 --(并列关系)--> 雄鹰\n",
      "\n",
      "和 --(左附加关系)--> 麻雀\n",
      "\n",
      "麻雀 --(并列关系)--> 雄鹰\n",
      "\n",
      "作为 --(动宾关系)--> 确定\n",
      "\n",
      "主攻 --(定中关系)--> 目标\n",
      "\n",
      "目标 --(动宾关系)--> 作为\n",
      "\n",
      "。 --(标点符号)--> 帮助\n",
      "\n"
     ]
    }
   ],
   "source": [
    "# 也可以直接拿到数组，任意顺序或逆序遍历\n",
    "\n",
    "word_array = a.getWordArray()\n",
    "\n",
    "for word in word_array:\n",
    "    print(\"%s --(%s)--> %s\" % (word.LEMMA, word.DEPREL, word.HEAD.LEMMA))\n",
    "    print()"
   ]
  }
 ],
 "metadata": {
  "kernelspec": {
   "display_name": "Python 3",
   "language": "python",
   "name": "python3"
  },
  "language_info": {
   "codemirror_mode": {
    "name": "ipython",
    "version": 3
   },
   "file_extension": ".py",
   "mimetype": "text/x-python",
   "name": "python",
   "nbconvert_exporter": "python",
   "pygments_lexer": "ipython3",
   "version": "3.8.8"
  }
 },
 "nbformat": 4,
 "nbformat_minor": 4
}
