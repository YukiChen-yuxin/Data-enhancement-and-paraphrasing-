{
 "cells": [
  {
   "cell_type": "code",
   "execution_count": 1,
   "id": "5c2c7142",
   "metadata": {},
   "outputs": [],
   "source": [
    "import json"
   ]
  },
  {
   "cell_type": "markdown",
   "id": "2a220f77",
   "metadata": {},
   "source": [
    "# 数据整理"
   ]
  },
  {
   "cell_type": "code",
   "execution_count": 2,
   "id": "8e04aaba",
   "metadata": {},
   "outputs": [],
   "source": [
    "import pandas as pd"
   ]
  },
  {
   "cell_type": "code",
   "execution_count": 28,
   "id": "34f7201a",
   "metadata": {},
   "outputs": [],
   "source": [
    "train = pd.read_csv('C:/Users/yuki/Desktop/大创/数据/LCQMC/LCQMC/LCQMC_train.csv')\n",
    "test = pd.read_csv('C:/Users/yuki/Desktop/大创/数据/LCQMC/LCQMC/LCQMC_test.csv')\n",
    "dev = pd.read_csv('C:/Users/yuki/Desktop/大创/数据/LCQMC/LCQMC/LCQMC_dev.csv')"
   ]
  },
  {
   "cell_type": "code",
   "execution_count": 29,
   "id": "dd0a904f",
   "metadata": {},
   "outputs": [],
   "source": [
    "data=list(train['sentence1'])+list(test['sentence1'])+list(dev['sentence1'])"
   ]
  },
  {
   "cell_type": "code",
   "execution_count": 30,
   "id": "c4f12814",
   "metadata": {},
   "outputs": [],
   "source": [
    "data=list(set(data))"
   ]
  },
  {
   "cell_type": "code",
   "execution_count": 31,
   "id": "8d0cd06d",
   "metadata": {},
   "outputs": [],
   "source": [
    "f=open('C:/Users/yuki/Desktop/大创/数据/原句子.txt','w',encoding='utf-8')\n",
    "for line in data:\n",
    "    f.write(line+'\\n')"
   ]
  },
  {
   "cell_type": "code",
   "execution_count": 32,
   "id": "c59600bc",
   "metadata": {},
   "outputs": [],
   "source": [
    "f=open('C:/Users/yuki/Desktop/大创/数据/原句子.txt','r',encoding='utf-8')\n",
    "data=[]\n",
    "lines = f.readlines()      #读取全部内容 ，并以列表方式返回\n",
    "for line in lines:\n",
    "    line=line.replace('\\n','')\n",
    "    line=line.replace('\\t','')\n",
    "    data.append(line)"
   ]
  },
  {
   "cell_type": "code",
   "execution_count": 33,
   "id": "08ffde31",
   "metadata": {},
   "outputs": [
    {
     "data": {
      "text/plain": [
       "159523"
      ]
     },
     "execution_count": 33,
     "metadata": {},
     "output_type": "execute_result"
    }
   ],
   "source": [
    "len(data)"
   ]
  },
  {
   "cell_type": "code",
   "execution_count": 34,
   "id": "73cb7ebc",
   "metadata": {},
   "outputs": [
    {
     "data": {
      "text/plain": [
       "['男肚子疼,胃也疼还拉肚子是怎么回事',\n",
       " '最近昆明天气怎么样？',\n",
       " '武媚娘在入寺怀的是谁的孩子',\n",
       " '最快的速度(成语)',\n",
       " '完成下列光路图、',\n",
       " '八年级寒假作业答案全部',\n",
       " '这个酒多少钱一瓶？',\n",
       " '南方和北方哪个好',\n",
       " '百度浏览器怎么样？',\n",
       " '请问大侠门,做一个刚才销售人员必备的东西是什么']"
      ]
     },
     "execution_count": 34,
     "metadata": {},
     "output_type": "execute_result"
    }
   ],
   "source": [
    "data[:10]"
   ]
  },
  {
   "cell_type": "markdown",
   "id": "ff10db23",
   "metadata": {},
   "source": [
    "### 是否需要去除非法字符？"
   ]
  },
  {
   "cell_type": "markdown",
   "id": "89c2d106",
   "metadata": {},
   "source": [
    " "
   ]
  },
  {
   "cell_type": "markdown",
   "id": "8c5907fa",
   "metadata": {},
   "source": [
    "# 抽取"
   ]
  },
  {
   "cell_type": "code",
   "execution_count": 15,
   "id": "88d26310",
   "metadata": {},
   "outputs": [],
   "source": [
    "import thulac"
   ]
  },
  {
   "cell_type": "code",
   "execution_count": 16,
   "id": "9f82f96f",
   "metadata": {},
   "outputs": [
    {
     "name": "stdout",
     "output_type": "stream",
     "text": [
      "Model loaded succeed\n"
     ]
    }
   ],
   "source": [
    "thu1 = thulac.thulac() #默认模式"
   ]
  },
  {
   "cell_type": "markdown",
   "id": "475b99cf",
   "metadata": {},
   "source": [
    "# 句子模板抽取-词性抽取"
   ]
  },
  {
   "cell_type": "markdown",
   "id": "8d137fca",
   "metadata": {},
   "source": [
    "n/名词 np/人名 ns/地名 ni/机构名 nz/其它专名\n",
    "\n",
    "m/数词 q/量词 mq/数量词 t/时间词 f/方位词 s/处所词\n",
    "\n",
    "v/动词 a/形容词 d/副词 h/前接成分 k/后接成分 i/习语 \n",
    "\n",
    "j/简称 r/代词 c/连词 p/介词 u/助词 y/语气助词\n",
    "\n",
    "e/叹词 o/拟声词 g/语素 w/标点 x/其它"
   ]
  },
  {
   "cell_type": "markdown",
   "id": "0ae29496",
   "metadata": {},
   "source": [
    "## 抽取 名词+习语+形容词"
   ]
  },
  {
   "cell_type": "markdown",
   "id": "c6c6bc22",
   "metadata": {},
   "source": [
    "书名号里的不能提取"
   ]
  },
  {
   "cell_type": "code",
   "execution_count": 17,
   "id": "453a70ca",
   "metadata": {},
   "outputs": [],
   "source": [
    "#第一种词性标注\n",
    "data_extra=[]\n",
    "for i in data[:50000]:\n",
    "    text=thu1.cut(i,text=True) #进行一句话分词\n",
    "    data_extra.append(text)"
   ]
  },
  {
   "cell_type": "code",
   "execution_count": 18,
   "id": "ae1b4454",
   "metadata": {},
   "outputs": [],
   "source": [
    "f=open('C:/Users/yuki/Desktop/大创/数据/data_extra.txt','w',encoding='utf-8')\n",
    "for line in data_extra:\n",
    "    f.write(line+'\\n')"
   ]
  },
  {
   "cell_type": "code",
   "execution_count": 19,
   "id": "04bbd192",
   "metadata": {},
   "outputs": [],
   "source": [
    "data_extra=[]\n",
    "for line in open('C:/Users/yuki/Desktop/大创/数据/data_extra.txt',encoding='UTF-8'):\n",
    "    line=line.rstrip().split('\\t')\n",
    "    line=line[0].strip().split()\n",
    "    data_extra.append(line)"
   ]
  },
  {
   "cell_type": "code",
   "execution_count": 20,
   "id": "be4db855",
   "metadata": {},
   "outputs": [],
   "source": [
    "#按照词性标注1挖句子模板\n",
    "data_extra_dic=[]\n",
    "for item in data_extra:\n",
    "    temp={}\n",
    "    lst=[]\n",
    "    extra=[]\n",
    "    for i in item:\n",
    "        if ('_n' == i[-2:]) or ('_i' == i[-2:]) or ('_a' == i[-2:]):\n",
    "            lst.append('moudle')\n",
    "            extra.append(i.split('_'))\n",
    "        else:\n",
    "            lst.append(i.split('_')[0])\n",
    "    temp['原句']=item\n",
    "    temp['抽取的句子']=lst\n",
    "    temp['抽取的词']=extra\n",
    "    data_extra_dic.append(temp)"
   ]
  },
  {
   "cell_type": "code",
   "execution_count": null,
   "id": "106dd9a7",
   "metadata": {},
   "outputs": [],
   "source": []
  },
  {
   "cell_type": "code",
   "execution_count": 140,
   "id": "4b7ec119",
   "metadata": {},
   "outputs": [],
   "source": [
    "#第二种词性标注\n",
    "data_extra2=[]\n",
    "for i in data[:50000]:\n",
    "    text=HanLP.segment(i)\n",
    "    test=text.toArray()\n",
    "    temp=[]\n",
    "    for i in test:\n",
    "        temp.append(i.toString())\n",
    "    data_extra2.append(temp)"
   ]
  },
  {
   "cell_type": "code",
   "execution_count": 145,
   "id": "ac08ace2",
   "metadata": {},
   "outputs": [],
   "source": [
    "f=open('C:/Users/yuki/Desktop/大创/数据/data_extra2.txt','w',encoding='utf-8')\n",
    "for line in data_extra2:\n",
    "    for i in line:\n",
    "        f.write(i+' ')\n",
    "    f.write('\\n')"
   ]
  },
  {
   "cell_type": "code",
   "execution_count": 21,
   "id": "c342169a",
   "metadata": {},
   "outputs": [],
   "source": [
    "data_extra2=[]\n",
    "for line in open('C:/Users/yuki/Desktop/大创/数据/data_extra2.txt',encoding='UTF-8'):\n",
    "    line=line.rstrip().split('\\t')\n",
    "    line=line[0].strip().split()\n",
    "    data_extra2.append(line)"
   ]
  },
  {
   "cell_type": "code",
   "execution_count": 22,
   "id": "d28b654a",
   "metadata": {},
   "outputs": [],
   "source": [
    "#按照词性标注2挖句子模板\n",
    "data_extra_dic2=[]\n",
    "for item in data_extra2:\n",
    "    temp={}\n",
    "    lst=[]\n",
    "    extra=[]\n",
    "    for i in item:\n",
    "        if ('/n' == i[-2:]) or ('/i' == i[-2:]) or ('/a' == i[-2:]) or ('/vn' == i[-3:]):\n",
    "            lst.append('moudle')\n",
    "            extra.append(i.split('/'))\n",
    "        else:\n",
    "            lst.append(i.split('/')[0])\n",
    "    temp['原句']=item\n",
    "    temp['抽取的句子']=lst\n",
    "    temp['抽取的词']=extra\n",
    "    data_extra_dic2.append(temp)"
   ]
  },
  {
   "cell_type": "code",
   "execution_count": 23,
   "id": "d4c33b8e",
   "metadata": {},
   "outputs": [],
   "source": [
    "filename='C:/Users/yuki/Desktop/大创/数据/data_extra_dic.json'\n",
    "with open(filename,'w',encoding='utf-8') as file_obj:\n",
    "    json.dump(data_extra_dic,file_obj,ensure_ascii=False,indent = 4)"
   ]
  },
  {
   "cell_type": "code",
   "execution_count": 24,
   "id": "295caa32",
   "metadata": {},
   "outputs": [],
   "source": [
    "filename='C:/Users/yuki/Desktop/大创/数据/data_extra_dic2.json'\n",
    "with open(filename,'w',encoding='utf-8') as file_obj:\n",
    "    json.dump(data_extra_dic2,file_obj,ensure_ascii=False,indent = 4)"
   ]
  },
  {
   "cell_type": "code",
   "execution_count": null,
   "id": "7bb043cb",
   "metadata": {},
   "outputs": [],
   "source": []
  },
  {
   "cell_type": "markdown",
   "id": "b01f095e",
   "metadata": {},
   "source": [
    "# 句子模板抽取-句法依存关系抽取"
   ]
  },
  {
   "cell_type": "code",
   "execution_count": null,
   "id": "8b94e7c9",
   "metadata": {},
   "outputs": [],
   "source": []
  },
  {
   "cell_type": "markdown",
   "id": "557ea475",
   "metadata": {},
   "source": [
    "## 抽取 动宾关系的宾语+并列关系中的名词、形容词、成语+定中关系的名词、形容词、成语"
   ]
  },
  {
   "cell_type": "code",
   "execution_count": null,
   "id": "f97a425a",
   "metadata": {},
   "outputs": [],
   "source": []
  },
  {
   "cell_type": "markdown",
   "id": "8ea2c78f",
   "metadata": {},
   "source": [
    "#### 使用粗粒度的标签作为词性标签"
   ]
  },
  {
   "cell_type": "code",
   "execution_count": null,
   "id": "73033e09",
   "metadata": {},
   "outputs": [],
   "source": []
  },
  {
   "cell_type": "code",
   "execution_count": null,
   "id": "89a40fb9",
   "metadata": {},
   "outputs": [],
   "source": []
  },
  {
   "cell_type": "markdown",
   "id": "dbcf07c4",
   "metadata": {},
   "source": [
    "1. ID：代币计数器，每个新句子从1开始。\n",
    "2. FORM：单词形式或标点符号 \n",
    "3. LEMMA：词形的词组或词干\n",
    "4. CPOSTAG：粗粒度的语料部分标签 \n",
    "5. POSTAG：细粒度的言语部分标签 \n",
    "6. FEATS：无序的句法和/或形态学特征集合，用竖条\"|\"分隔，如果没有，则用下划线\"_\" \n",
    "7. HEAD：当前标记的头部ID \n",
    "8. DEPREL：与HEAD的依存关系\n",
    "--\n",
    "1. ID: token counter, starting at 1 for each new sentence \n",
    "2. FORM: word form or punctuation symbol \n",
    "3. LEMMA: lemma or stem of word form\n",
    "4. CPOSTAG: coarse-grained part-of-speech tag \n",
    "5. POSTAG: fine-grained part-of-speech tag \n",
    "6. FEATS: unordered set of syntactic and/or morphological features, separated by a vertical bar “|”, or an underscore “_” if not available \n",
    "7. HEAD: head ID of the current token \n",
    "8. DEPREL: dependency relation to the HEAD"
   ]
  },
  {
   "cell_type": "markdown",
   "id": "263d1fba",
   "metadata": {},
   "source": [
    "词性参考：http://www.hankcs.com/nlp/part-of-speech-tagging.html#h2-8"
   ]
  },
  {
   "cell_type": "markdown",
   "id": "c4210d14",
   "metadata": {},
   "source": [
    "动宾关系中 尾部的词\n",
    "并列关系中 n a i\n",
    "定中关系中 n a i"
   ]
  },
  {
   "cell_type": "code",
   "execution_count": 68,
   "id": "d087709d",
   "metadata": {},
   "outputs": [],
   "source": [
    "from pyhanlp import *"
   ]
  },
  {
   "cell_type": "code",
   "execution_count": 17,
   "id": "68cd4a45",
   "metadata": {},
   "outputs": [],
   "source": [
    "#句法分析\n",
    "data_para=[]\n",
    "for i in data[:50000]:\n",
    "    text=HanLP.parseDependency(i)\n",
    "    data_para.append(text)"
   ]
  },
  {
   "cell_type": "code",
   "execution_count": 28,
   "id": "b84315c4",
   "metadata": {},
   "outputs": [],
   "source": [
    "#整理\n",
    "data_para_dic=[]\n",
    "for item in data_para:\n",
    "    temp={}\n",
    "    temp['首']=[]\n",
    "    temp['关系']=[]\n",
    "    temp['尾']=[]\n",
    "    temp['切分']=[]\n",
    "    for word in item.iterator():\n",
    "        temp['首'].append([word.ID,word.CPOSTAG])\n",
    "        temp['关系'].append(word.DEPREL)\n",
    "        temp['尾'].append([word.HEAD.ID,word.HEAD.CPOSTAG])\n",
    "        temp['切分'].append(word.LEMMA)\n",
    "        \n",
    "    data_para_dic.append(temp)"
   ]
  },
  {
   "cell_type": "code",
   "execution_count": 32,
   "id": "4a35b4ac",
   "metadata": {},
   "outputs": [],
   "source": [
    "filename='C:/Users/yuki/Desktop/大创/数据/data_para_dic.json'\n",
    "with open(filename,'w',encoding='utf-8') as file_obj:\n",
    "    json.dump(data_para_dic,file_obj,ensure_ascii=False,indent = 4)"
   ]
  },
  {
   "cell_type": "code",
   "execution_count": 25,
   "id": "90d7be8f",
   "metadata": {},
   "outputs": [],
   "source": [
    "with open('C:/Users/yuki/Desktop/大创/数据/data_para_dic.json',encoding=\"utf-8\") as file_obj:\n",
    "    data_para_dic=json.load(file_obj)"
   ]
  },
  {
   "cell_type": "code",
   "execution_count": 26,
   "id": "6bf18a02",
   "metadata": {},
   "outputs": [],
   "source": [
    "#按照句法分析挖句子模板\n",
    "for d in range(0,len(data_para_dic)):\n",
    "    dic=data_para_dic[d]\n",
    "    rela=dic['关系']\n",
    "    head=dic['首']\n",
    "    tail=dic['尾']\n",
    "    seg=dic['切分']\n",
    "    extra=[]\n",
    "    #动宾关系的宾语\n",
    "    for num in range(0,len(rela)):\n",
    "        if rela[num]=='动宾关系':\n",
    "            h=head[num]\n",
    "            t=tail[num]\n",
    "            if h[0]>t[0]:\n",
    "                extra.append(h)\n",
    "            elif h[0]<t[0]:\n",
    "                extra.append(t)\n",
    "        if rela[num]=='并列关系':\n",
    "            h=head[num]\n",
    "            t=tail[num]\n",
    "            if h[1]=='n' or h[1]=='a' or h[1]=='i' or h[1]=='vn':\n",
    "                extra.append(h)\n",
    "            if t[1]=='n' or t[1]=='a' or t[1]=='i' or t[1]=='vn':\n",
    "                extra.append(t)\n",
    "        if rela[num]=='定中关系':\n",
    "            h=head[num]\n",
    "            t=tail[num]\n",
    "            if h[1]=='n' or h[1]=='a' or h[1]=='i' or h[1]=='vn':\n",
    "                extra.append(h)\n",
    "            if t[1]=='n' or t[1]=='a' or t[1]=='i' or t[1]=='vn':\n",
    "                extra.append(t)\n",
    "                \n",
    "    data_para_dic[d]['extra']=extra"
   ]
  },
  {
   "cell_type": "code",
   "execution_count": 36,
   "id": "bdaf6963",
   "metadata": {},
   "outputs": [],
   "source": [
    "#按照句法分析挖句子模板\n",
    "data_para_extra_dic=[]\n",
    "for d in range(0,len(data_para_dic)):\n",
    "    dic=data_para_dic[d]\n",
    "    temp={}\n",
    "    temp['原句子']=dic['切分']\n",
    "    temp['原句子词性']=dic['首']\n",
    "    lst=dic['切分'][:]\n",
    "    word=[]\n",
    "    count=[]\n",
    "    for i in dic['extra']:\n",
    "        if i[0] in count:\n",
    "            pass\n",
    "        else:\n",
    "            word.append([lst[i[0]-1],i[1]])\n",
    "            lst[i[0]-1]='moudle'\n",
    "            count.append(i[0])\n",
    "        \n",
    "    temp['抽取的句子']=lst\n",
    "    temp['抽取的词']=word\n",
    "    data_para_extra_dic.append(temp)"
   ]
  },
  {
   "cell_type": "code",
   "execution_count": 37,
   "id": "9884465e",
   "metadata": {},
   "outputs": [],
   "source": [
    "filename='C:/Users/yuki/Desktop/大创/数据/data_para_extra_dic111.json'\n",
    "with open(filename,'w',encoding='utf-8') as file_obj:\n",
    "    json.dump(data_para_extra_dic,file_obj,ensure_ascii=False,indent = 4)"
   ]
  },
  {
   "cell_type": "code",
   "execution_count": 12,
   "id": "a727399a",
   "metadata": {},
   "outputs": [],
   "source": [
    "with open('C:/Users/yuki/Desktop/大创/数据/data_para_extra_dic.json',encoding=\"utf-8\") as file_obj:\n",
    "    data_para_extra_dic=json.load(file_obj)"
   ]
  },
  {
   "cell_type": "code",
   "execution_count": null,
   "id": "2ec1ce6b",
   "metadata": {},
   "outputs": [],
   "source": []
  },
  {
   "cell_type": "code",
   "execution_count": 38,
   "id": "35f80c65",
   "metadata": {},
   "outputs": [],
   "source": [
    "with open('C:/Users/yuki/Desktop/大创/数据/data_extra_dic2.json',encoding=\"utf-8\") as file_obj:\n",
    "    test=json.load(file_obj)"
   ]
  },
  {
   "cell_type": "code",
   "execution_count": 39,
   "id": "86a8a0c7",
   "metadata": {},
   "outputs": [
    {
     "data": {
      "text/plain": [
       "49890"
      ]
     },
     "execution_count": 39,
     "metadata": {},
     "output_type": "execute_result"
    }
   ],
   "source": [
    "len(test)"
   ]
  },
  {
   "cell_type": "code",
   "execution_count": 40,
   "id": "34e2b1a5",
   "metadata": {},
   "outputs": [],
   "source": [
    "with open('C:/Users/yuki/Desktop/大创/数据/data_para_extra_dic111.json',encoding=\"utf-8\") as file_obj:\n",
    "    test11=json.load(file_obj)"
   ]
  },
  {
   "cell_type": "code",
   "execution_count": 41,
   "id": "4db9ce56",
   "metadata": {},
   "outputs": [
    {
     "data": {
      "text/plain": [
       "50000"
      ]
     },
     "execution_count": 41,
     "metadata": {},
     "output_type": "execute_result"
    }
   ],
   "source": [
    "len(test11)"
   ]
  },
  {
   "cell_type": "code",
   "execution_count": null,
   "id": "f5f2f88d",
   "metadata": {},
   "outputs": [],
   "source": []
  }
 ],
 "metadata": {
  "kernelspec": {
   "display_name": "Python 3",
   "language": "python",
   "name": "python3"
  },
  "language_info": {
   "codemirror_mode": {
    "name": "ipython",
    "version": 3
   },
   "file_extension": ".py",
   "mimetype": "text/x-python",
   "name": "python",
   "nbconvert_exporter": "python",
   "pygments_lexer": "ipython3",
   "version": "3.8.8"
  }
 },
 "nbformat": 4,
 "nbformat_minor": 5
}
