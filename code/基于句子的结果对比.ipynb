{
 "cells": [
  {
   "cell_type": "code",
   "execution_count": 1,
   "id": "33b9c873",
   "metadata": {},
   "outputs": [],
   "source": [
    "import json"
   ]
  },
  {
   "cell_type": "code",
   "execution_count": 3,
   "id": "607eedb7",
   "metadata": {},
   "outputs": [],
   "source": [
    "with open('C:/Users/yuki/Desktop/大创/数据/结果/bilstm+att结果+bleu评价.json',encoding=\"utf-8\") as file_obj:\n",
    "    att=json.load(file_obj)"
   ]
  },
  {
   "cell_type": "code",
   "execution_count": 4,
   "id": "74562f2f",
   "metadata": {},
   "outputs": [],
   "source": [
    "with open('C:/Users/yuki/Desktop/大创/数据/结果/seq2seq结果+bleu评价.json',encoding=\"utf-8\") as file_obj:\n",
    "    seq=json.load(file_obj)"
   ]
  },
  {
   "cell_type": "code",
   "execution_count": 10,
   "id": "f12b6ea0",
   "metadata": {},
   "outputs": [],
   "source": [
    "sum_att=0\n",
    "count1=0\n",
    "for dic in att:\n",
    "    if dic != {}:\n",
    "        sum_att+=dic['得分']\n",
    "    else:\n",
    "        count1+=1\n",
    "    \n",
    "sum_seq=0\n",
    "count2=0\n",
    "for dic in seq:\n",
    "    if dic != {}:\n",
    "        sum_seq+=dic['得分']\n",
    "    else:\n",
    "        count2+=1"
   ]
  },
  {
   "cell_type": "code",
   "execution_count": 14,
   "id": "66f77216",
   "metadata": {},
   "outputs": [
    {
     "name": "stdout",
     "output_type": "stream",
     "text": [
      "0.6848612771506546\n",
      "0.5899483417526753\n"
     ]
    }
   ],
   "source": [
    "att_score=sum_att/(len(att)-count1)\n",
    "seq_score=sum_seq/(len(seq)-count2)\n",
    "print(att_score)\n",
    "print(seq_score)"
   ]
  },
  {
   "cell_type": "code",
   "execution_count": null,
   "id": "362cf0ff",
   "metadata": {},
   "outputs": [],
   "source": []
  }
 ],
 "metadata": {
  "kernelspec": {
   "display_name": "Python 3",
   "language": "python",
   "name": "python3"
  },
  "language_info": {
   "codemirror_mode": {
    "name": "ipython",
    "version": 3
   },
   "file_extension": ".py",
   "mimetype": "text/x-python",
   "name": "python",
   "nbconvert_exporter": "python",
   "pygments_lexer": "ipython3",
   "version": "3.8.8"
  }
 },
 "nbformat": 4,
 "nbformat_minor": 5
}
